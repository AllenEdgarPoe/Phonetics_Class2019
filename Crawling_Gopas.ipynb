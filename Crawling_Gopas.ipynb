{
 "cells": [
  {
   "cell_type": "markdown",
   "metadata": {},
   "source": [
    "### 고파스 실시간 검색어 크롤링"
   ]
  },
  {
   "cell_type": "code",
   "execution_count": 1,
   "metadata": {},
   "outputs": [],
   "source": [
    "from urllib.request import urlopen\n",
    "from bs4 import BeautifulSoup\n",
    "import csv\n"
   ]
  },
  {
   "cell_type": "code",
   "execution_count": 69,
   "metadata": {},
   "outputs": [
    {
     "name": "stdout",
     "output_type": "stream",
     "text": [
      "검색어 목록\n",
      " 1 .  여성상위\n",
      "검색어 목록\n",
      " 2 .  개운사예수\n",
      "검색어 목록\n",
      " 3 .  07입실렌티\n",
      "검색어 목록\n",
      " 4 .  중도\n",
      "검색어 목록\n",
      " 5 .  한추사건\n",
      "검색어 목록\n",
      " 6 .  심녀\n",
      "검색어 목록\n",
      " 7 .  백기\n",
      "검색어 목록\n",
      " 8 .  한추\n",
      "검색어 목록\n",
      " 9 .  중앙도서관\n",
      "검색어 목록\n",
      " 10 .  텝스\n"
     ]
    }
   ],
   "source": [
    "html = urlopen('https://www.koreapas.com/bbs/main.php')\n",
    "gopas = BeautifulSoup(html,'html.parser')\n",
    "ranking_list = []\n",
    "search_list = []\n",
    "for ranking, search in zip(gopas.find_all('span',{'class':'number'}),gopas.find_all('span',{'style':'padding-left:2px;font-size:13px;color:#4a4a4a;'})):\n",
    "    ranking_list.append(ranking.get_text())\n",
    "    search_list.append(search.get_text())\n",
    "\n",
    "for i, j in zip(ranking_list, search_list):\n",
    "    print('검색어 목록\\n',i,'. ',j)"
   ]
  },
  {
   "cell_type": "code",
   "execution_count": 72,
   "metadata": {},
   "outputs": [],
   "source": [
    "import csv\n",
    "# Create a file to write to, add headers row\n",
    "data = {'ranking': ranking_list, 'search': search_list}\n",
    "with open('crawling.csv', 'w') as f:\n",
    "    writer = csv.writer(f)\n",
    "    writer.writerow(data)"
   ]
  },
  {
   "cell_type": "code",
   "execution_count": 76,
   "metadata": {},
   "outputs": [
    {
     "data": {
      "text/html": [
       "<div>\n",
       "<style scoped>\n",
       "    .dataframe tbody tr th:only-of-type {\n",
       "        vertical-align: middle;\n",
       "    }\n",
       "\n",
       "    .dataframe tbody tr th {\n",
       "        vertical-align: top;\n",
       "    }\n",
       "\n",
       "    .dataframe thead th {\n",
       "        text-align: right;\n",
       "    }\n",
       "</style>\n",
       "<table border=\"1\" class=\"dataframe\">\n",
       "  <thead>\n",
       "    <tr style=\"text-align: right;\">\n",
       "      <th></th>\n",
       "      <th>ranking</th>\n",
       "      <th>search</th>\n",
       "    </tr>\n",
       "  </thead>\n",
       "  <tbody>\n",
       "    <tr>\n",
       "      <th>0</th>\n",
       "      <td>1</td>\n",
       "      <td>여성상위</td>\n",
       "    </tr>\n",
       "    <tr>\n",
       "      <th>1</th>\n",
       "      <td>2</td>\n",
       "      <td>개운사예수</td>\n",
       "    </tr>\n",
       "    <tr>\n",
       "      <th>2</th>\n",
       "      <td>3</td>\n",
       "      <td>07입실렌티</td>\n",
       "    </tr>\n",
       "    <tr>\n",
       "      <th>3</th>\n",
       "      <td>4</td>\n",
       "      <td>중도</td>\n",
       "    </tr>\n",
       "    <tr>\n",
       "      <th>4</th>\n",
       "      <td>5</td>\n",
       "      <td>한추사건</td>\n",
       "    </tr>\n",
       "    <tr>\n",
       "      <th>5</th>\n",
       "      <td>6</td>\n",
       "      <td>심녀</td>\n",
       "    </tr>\n",
       "    <tr>\n",
       "      <th>6</th>\n",
       "      <td>7</td>\n",
       "      <td>백기</td>\n",
       "    </tr>\n",
       "    <tr>\n",
       "      <th>7</th>\n",
       "      <td>8</td>\n",
       "      <td>한추</td>\n",
       "    </tr>\n",
       "    <tr>\n",
       "      <th>8</th>\n",
       "      <td>9</td>\n",
       "      <td>중앙도서관</td>\n",
       "    </tr>\n",
       "    <tr>\n",
       "      <th>9</th>\n",
       "      <td>10</td>\n",
       "      <td>텝스</td>\n",
       "    </tr>\n",
       "  </tbody>\n",
       "</table>\n",
       "</div>"
      ],
      "text/plain": [
       "  ranking  search\n",
       "0       1    여성상위\n",
       "1       2   개운사예수\n",
       "2       3  07입실렌티\n",
       "3       4      중도\n",
       "4       5    한추사건\n",
       "5       6      심녀\n",
       "6       7      백기\n",
       "7       8      한추\n",
       "8       9   중앙도서관\n",
       "9      10      텝스"
      ]
     },
     "execution_count": 76,
     "metadata": {},
     "output_type": "execute_result"
    }
   ],
   "source": [
    "import pandas as pd\n",
    "data = {'ranking': ranking_list, 'search': search_list}\n",
    "pd.DataFrame(data, index = None)"
   ]
  },
  {
   "cell_type": "code",
   "execution_count": null,
   "metadata": {},
   "outputs": [],
   "source": []
  }
 ],
 "metadata": {
  "kernelspec": {
   "display_name": "Python 3",
   "language": "python",
   "name": "python3"
  },
  "language_info": {
   "codemirror_mode": {
    "name": "ipython",
    "version": 3
   },
   "file_extension": ".py",
   "mimetype": "text/x-python",
   "name": "python",
   "nbconvert_exporter": "python",
   "pygments_lexer": "ipython3",
   "version": "3.6.5"
  }
 },
 "nbformat": 4,
 "nbformat_minor": 2
}
